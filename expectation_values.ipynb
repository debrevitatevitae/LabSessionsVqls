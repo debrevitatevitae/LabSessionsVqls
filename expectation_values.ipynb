{
 "cells": [
  {
   "cell_type": "markdown",
   "id": "3c9067da-2a79-44ab-8de9-018a63a3e591",
   "metadata": {},
   "source": [
    "## Calculate expectation values"
   ]
  },
  {
   "cell_type": "markdown",
   "id": "9d36324a-b9d8-4ad0-98ff-1b33d83d4248",
   "metadata": {},
   "source": [
    "The expectation value of the observable Z can be written as: \n",
    "$$\n",
    "\\begin{align}\n",
    "\\langle Z \\rangle &=\\langle q | Z | q\\rangle =\\langle q|0\\rangle\\langle 0|q\\rangle - \\langle q|1\\rangle\\langle 1|q\\rangle\n",
    "=|\\langle 0 |q\\rangle|^2 - |\\langle 1 | q\\rangle|^2.\\\\\\\\\n",
    "\\end{align}\n",
    "$$\n",
    "Which can easily be deduced from the definition."
   ]
  },
  {
   "cell_type": "code",
   "execution_count": 2,
   "id": "06dce44b-ef60-42d2-a67d-939db7773045",
   "metadata": {},
   "outputs": [],
   "source": [
    "import numpy as np\n",
    "import scipy\n",
    "from qiskit import Aer\n",
    "from qiskit.circuit.library.n_local import TwoLocal\n",
    "from qiskit.opflow import (Z, I, H, CircuitStateFn, StateFn)\n",
    "from qiskit.quantum_info import Statevector"
   ]
  },
  {
   "cell_type": "code",
   "execution_count": 10,
   "id": "44036f67-8ccc-440c-9536-da7b97a8f1c1",
   "metadata": {},
   "outputs": [],
   "source": [
    "obs = (Z ^ Z ^ I)"
   ]
  },
  {
   "cell_type": "code",
   "execution_count": 11,
   "id": "5df63524-6302-4e63-a025-1ee6e293c8cb",
   "metadata": {},
   "outputs": [
    {
     "data": {
      "text/plain": [
       "array([[ 1.+0.j,  0.+0.j,  0.+0.j,  0.+0.j,  0.+0.j,  0.+0.j,  0.+0.j,\n",
       "         0.+0.j],\n",
       "       [ 0.+0.j,  1.+0.j,  0.+0.j,  0.+0.j,  0.+0.j,  0.+0.j,  0.+0.j,\n",
       "         0.+0.j],\n",
       "       [ 0.+0.j,  0.+0.j, -1.+0.j,  0.+0.j,  0.+0.j,  0.+0.j,  0.+0.j,\n",
       "         0.+0.j],\n",
       "       [ 0.+0.j,  0.+0.j,  0.+0.j, -1.+0.j,  0.+0.j,  0.+0.j,  0.+0.j,\n",
       "         0.+0.j],\n",
       "       [ 0.+0.j,  0.+0.j,  0.+0.j,  0.+0.j, -1.+0.j,  0.+0.j,  0.+0.j,\n",
       "         0.+0.j],\n",
       "       [ 0.+0.j,  0.+0.j,  0.+0.j,  0.+0.j,  0.+0.j, -1.+0.j,  0.+0.j,\n",
       "         0.+0.j],\n",
       "       [ 0.+0.j,  0.+0.j,  0.+0.j,  0.+0.j,  0.+0.j,  0.+0.j,  1.+0.j,\n",
       "         0.+0.j],\n",
       "       [ 0.+0.j,  0.+0.j,  0.+0.j,  0.+0.j,  0.+0.j,  0.+0.j,  0.+0.j,\n",
       "         1.+0.j]])"
      ]
     },
     "execution_count": 11,
     "metadata": {},
     "output_type": "execute_result"
    }
   ],
   "source": [
    "obs.to_matrix()"
   ]
  },
  {
   "cell_type": "markdown",
   "id": "e6c9c0c7-824f-4ce5-b3ae-387b57ca0c93",
   "metadata": {},
   "source": [
    "## Exercise\n",
    "Write your own code to calculate the expactation value of the observable:\n",
    "$$\n",
    "obs = Z \\otimes Z \\otimes I.\n",
    "$$\n",
    "To do this use: \n",
    "$$\n",
    "\\begin{align}\n",
    "\\langle Z \\rangle &=\\langle q | Z | q\\rangle =\\langle q|0\\rangle\\langle 0|q\\rangle - \\langle q|1\\rangle\\langle 1|q\\rangle\n",
    "=|\\langle 0 |q\\rangle|^2 - |\\langle 1 | q\\rangle|^2,\\\\\\\\\n",
    "\\end{align}\n",
    "$$\n",
    "and so now we get:\n",
    "$$\n",
    "\\begin{align}\n",
    "\\langle obs \\rangle &\n",
    "=|\\langle 0 0 0 |q\\rangle|^2 +|\\langle 0 0 1 | q\\rangle|^2 + |\\langle 1 1 0 |q\\rangle|^2 + |\\langle 1 1 1 | q\\rangle|^2 -|\\langle 0 1 0 |q\\rangle|^2 - |\\langle 0 1 1 | q\\rangle|^2 - |\\langle 1 0 0 |q\\rangle|^2 - |\\langle 1 0 1 | q\\rangle|^2.\\\\\\\\\n",
    "\\end{align}\n",
    "$$"
   ]
  },
  {
   "cell_type": "code",
   "execution_count": 16,
   "id": "1d3be2cf-edbd-41ed-b220-0646599d1149",
   "metadata": {},
   "outputs": [],
   "source": [
    "ansatz = TwoLocal(3, 'ry', 'cz', 'full', reps=1, insert_barriers=True)\n",
    "# fig = ansatz.decompose().draw(output='mpl')\n",
    "# fig.savefig('ansatz.png', bbox_inches='tight')\n",
    "#print(ansatz.assign_parameters(theta_0).decompose().qasm())"
   ]
  },
  {
   "cell_type": "code",
   "execution_count": 17,
   "id": "a60299d0-1592-40c5-b9c9-d1d0bdc162d8",
   "metadata": {},
   "outputs": [],
   "source": [
    "theta_0 = np.random.uniform(-2 * np.pi, 2 * np.pi, size=ansatz.num_parameters)\n",
    "# print(theta_0)\n",
    "psi = CircuitStateFn(ansatz.assign_parameters(theta_0))\n",
    "# print(psi)"
   ]
  },
  {
   "cell_type": "code",
   "execution_count": 78,
   "id": "819cf00e-0e9b-4b6e-a90d-5a3ad0095d5f",
   "metadata": {},
   "outputs": [
    {
     "data": {
      "text/plain": [
       "{'111': 0.408203125,\n",
       " '110': 0.306640625,\n",
       " '100': 0.1357421875,\n",
       " '011': 0.0693359375,\n",
       " '000': 0.0625,\n",
       " '101': 0.0078125,\n",
       " '001': 0.0068359375,\n",
       " '010': 0.0029296875}"
      ]
     },
     "execution_count": 78,
     "metadata": {},
     "output_type": "execute_result"
    }
   ],
   "source": [
    "psi.sample()"
   ]
  },
  {
   "cell_type": "code",
   "execution_count": 79,
   "id": "5ef40a9b-03f8-4034-9756-90fd97c8e2f0",
   "metadata": {},
   "outputs": [],
   "source": [
    "def expectation_value(psi):\n",
    "    return (psi.sample()['000']) + (psi.sample()['001']) + (psi.sample()['110']) + (psi.sample()['111']) - (psi.sample()['010']) - (psi.sample()['011']) - (psi.sample()['100']) - (psi.sample()['101'])"
   ]
  },
  {
   "cell_type": "code",
   "execution_count": 80,
   "id": "73fa3eb1-b41e-4391-b48a-1cab488ecbd8",
   "metadata": {},
   "outputs": [
    {
     "data": {
      "text/plain": [
       "0.6201171875"
      ]
     },
     "execution_count": 80,
     "metadata": {},
     "output_type": "execute_result"
    }
   ],
   "source": [
    "expectation_value "
   ]
  },
  {
   "cell_type": "code",
   "execution_count": 81,
   "id": "2582bf57-c28d-42d8-835c-e7955668bc01",
   "metadata": {},
   "outputs": [],
   "source": [
    "ev1 = StateFn(obs).adjoint().eval(psi)"
   ]
  },
  {
   "cell_type": "code",
   "execution_count": 69,
   "id": "106ac4ce-ff76-4a89-abef-c8c34d0c296f",
   "metadata": {},
   "outputs": [
    {
     "data": {
      "text/plain": [
       "(0.5926989360753903+0j)"
      ]
     },
     "execution_count": 69,
     "metadata": {},
     "output_type": "execute_result"
    }
   ],
   "source": [
    "ev1"
   ]
  },
  {
   "cell_type": "code",
   "execution_count": null,
   "id": "bd64546a-85b5-46e9-8fb7-e2d1183cb380",
   "metadata": {},
   "outputs": [],
   "source": []
  },
  {
   "cell_type": "code",
   "execution_count": null,
   "id": "b8568134-e0f0-457e-ba3d-5c48484244cb",
   "metadata": {},
   "outputs": [],
   "source": []
  },
  {
   "cell_type": "code",
   "execution_count": null,
   "id": "4b451ea5-6697-45e3-9cd3-5e0e08129730",
   "metadata": {},
   "outputs": [],
   "source": []
  },
  {
   "cell_type": "code",
   "execution_count": null,
   "id": "fde0dab0-5bbe-481f-91f0-045a257bdddc",
   "metadata": {},
   "outputs": [],
   "source": []
  },
  {
   "cell_type": "code",
   "execution_count": null,
   "id": "ddc4275a-a9d0-420e-9a07-6c7af2876af0",
   "metadata": {},
   "outputs": [],
   "source": []
  }
 ],
 "metadata": {
  "kernelspec": {
   "display_name": "Python 3",
   "language": "python",
   "name": "python3"
  },
  "language_info": {
   "codemirror_mode": {
    "name": "ipython",
    "version": 3
   },
   "file_extension": ".py",
   "mimetype": "text/x-python",
   "name": "python",
   "nbconvert_exporter": "python",
   "pygments_lexer": "ipython3",
   "version": "3.9.2"
  }
 },
 "nbformat": 4,
 "nbformat_minor": 5
}
