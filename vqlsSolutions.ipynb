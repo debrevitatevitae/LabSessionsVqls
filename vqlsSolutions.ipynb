{
 "cells": [
  {
   "cell_type": "code",
   "execution_count": null,
   "id": "f09da66d",
   "metadata": {},
   "outputs": [],
   "source": [
    "def build_ansatz(params):\n",
    "    \"\"\"\n",
    "    Returns the ansatz circuit for representing |\\psi(\\theta)>\n",
    "    \n",
    "    Arguments:\n",
    "        params: np.ndarray containing the parameters of the rotation gates\n",
    "    \"\"\"\n",
    "    qc = QuantumCircuit(3)\n",
    "    \n",
    "    # first ry block\n",
    "    qc.ry(params[0], 0)\n",
    "    qc.ry(params[1], 1)\n",
    "    qc.ry(params[2], 2)\n",
    "    \n",
    "    # entangling block\n",
    "    qc.cz(0, 1)\n",
    "    qc.cz(0, 2)\n",
    "    qc.cz(1, 2)\n",
    "    \n",
    "    # second ry block\n",
    "    qc.ry(params[3], 0)\n",
    "    qc.ry(params[4], 1)\n",
    "    qc.ry(params[5], 2)\n",
    "    \n",
    "    return qc"
   ]
  },
  {
   "cell_type": "code",
   "execution_count": null,
   "id": "8d51df33-858c-4919-9837-70a178c871ab",
   "metadata": {},
   "outputs": [],
   "source": [
    "def cost(params):\n",
    "    \"\"\"\n",
    "    Returns the global un-normalized cost function for VQLS:\n",
    "    C_G = <\\psi| (~A (1-|b><b|) A) |\\psi>\n",
    "    \"\"\"\n",
    "\n",
    "    # ===============\n",
    "    # YOUR CODE BELOW\n",
    "    # ===============\n",
    "    \n",
    "    cost_eval = ...\n",
    "\n",
    "    return cost_eval"
   ]
  },
  {
   "cell_type": "code",
   "execution_count": null,
   "id": "1ed283a8-1fb6-4585-a6da-465f8c17efcd",
   "metadata": {},
   "outputs": [],
   "source": []
  },
  {
   "cell_type": "code",
   "execution_count": null,
   "id": "e531af4d-cce5-4114-98c1-4657b5dd8f6c",
   "metadata": {},
   "outputs": [],
   "source": []
  }
 ],
 "metadata": {
  "kernelspec": {
   "display_name": "Python 3",
   "language": "python",
   "name": "python3"
  },
  "language_info": {
   "codemirror_mode": {
    "name": "ipython",
    "version": 3
   },
   "file_extension": ".py",
   "mimetype": "text/x-python",
   "name": "python",
   "nbconvert_exporter": "python",
   "pygments_lexer": "ipython3",
   "version": "3.9.2"
  }
 },
 "nbformat": 4,
 "nbformat_minor": 5
}
