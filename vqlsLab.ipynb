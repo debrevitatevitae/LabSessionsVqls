{
 "cells": [
  {
   "cell_type": "code",
   "execution_count": 1,
   "id": "82015568",
   "metadata": {},
   "outputs": [
    {
     "name": "stdout",
     "output_type": "stream",
     "text": [
      "Requirement already satisfied: qiskit in /mnt/nvme0n1p2/home/mschalkers/.local/lib/python3.9/site-packages (0.34.2)\n",
      "Requirement already satisfied: qiskit-aer==0.10.3 in /mnt/nvme0n1p2/home/mschalkers/.local/lib/python3.9/site-packages (from qiskit) (0.10.3)\n",
      "Requirement already satisfied: qiskit-ignis==0.7.0 in /mnt/nvme0n1p2/home/mschalkers/.local/lib/python3.9/site-packages (from qiskit) (0.7.0)\n",
      "Requirement already satisfied: qiskit-ibmq-provider==0.18.3 in /mnt/nvme0n1p2/home/mschalkers/.local/lib/python3.9/site-packages (from qiskit) (0.18.3)\n",
      "Requirement already satisfied: qiskit-terra==0.19.2 in /mnt/nvme0n1p2/home/mschalkers/.local/lib/python3.9/site-packages (from qiskit) (0.19.2)\n",
      "Requirement already satisfied: numpy>=1.16.3 in /usr/lib/python3/dist-packages (from qiskit-aer==0.10.3->qiskit) (1.19.5)\n",
      "Requirement already satisfied: scipy>=1.0 in /usr/lib/python3/dist-packages (from qiskit-aer==0.10.3->qiskit) (1.6.0)\n",
      "Requirement already satisfied: requests-ntlm>=1.1.0 in /mnt/nvme0n1p2/home/mschalkers/.local/lib/python3.9/site-packages (from qiskit-ibmq-provider==0.18.3->qiskit) (1.1.0)\n",
      "Requirement already satisfied: python-dateutil>=2.8.0 in /usr/lib/python3/dist-packages (from qiskit-ibmq-provider==0.18.3->qiskit) (2.8.1)\n",
      "Requirement already satisfied: urllib3>=1.21.1 in /usr/lib/python3/dist-packages (from qiskit-ibmq-provider==0.18.3->qiskit) (1.26.5)\n",
      "Requirement already satisfied: requests>=2.19 in /usr/lib/python3/dist-packages (from qiskit-ibmq-provider==0.18.3->qiskit) (2.25.1)\n",
      "Requirement already satisfied: websocket-client>=1.0.1 in /mnt/nvme0n1p2/home/mschalkers/.local/lib/python3.9/site-packages (from qiskit-ibmq-provider==0.18.3->qiskit) (1.3.1)\n",
      "Requirement already satisfied: setuptools>=40.1.0 in /usr/lib/python3/dist-packages (from qiskit-ignis==0.7.0->qiskit) (52.0.0)\n",
      "Requirement already satisfied: retworkx>=0.8.0 in /mnt/nvme0n1p2/home/mschalkers/.local/lib/python3.9/site-packages (from qiskit-ignis==0.7.0->qiskit) (0.11.0)\n",
      "Requirement already satisfied: stevedore>=3.0.0 in /mnt/nvme0n1p2/home/mschalkers/.local/lib/python3.9/site-packages (from qiskit-terra==0.19.2->qiskit) (3.5.0)\n",
      "Requirement already satisfied: tweedledum<2.0,>=1.1 in /mnt/nvme0n1p2/home/mschalkers/.local/lib/python3.9/site-packages (from qiskit-terra==0.19.2->qiskit) (1.1.1)\n",
      "Requirement already satisfied: python-constraint>=1.4 in /mnt/nvme0n1p2/home/mschalkers/.local/lib/python3.9/site-packages (from qiskit-terra==0.19.2->qiskit) (1.4.0)\n",
      "Requirement already satisfied: symengine>=0.8 in /mnt/nvme0n1p2/home/mschalkers/.local/lib/python3.9/site-packages (from qiskit-terra==0.19.2->qiskit) (0.9.0)\n",
      "Requirement already satisfied: dill>=0.3 in /mnt/nvme0n1p2/home/mschalkers/.local/lib/python3.9/site-packages (from qiskit-terra==0.19.2->qiskit) (0.3.4)\n",
      "Requirement already satisfied: ply>=3.10 in /usr/lib/python3/dist-packages (from qiskit-terra==0.19.2->qiskit) (3.11)\n",
      "Requirement already satisfied: psutil>=5 in /usr/lib/python3/dist-packages (from qiskit-terra==0.19.2->qiskit) (5.8.0)\n",
      "Requirement already satisfied: sympy>=1.3 in /usr/lib/python3/dist-packages (from qiskit-terra==0.19.2->qiskit) (1.7.1)\n",
      "Requirement already satisfied: ntlm-auth>=1.0.2 in /mnt/nvme0n1p2/home/mschalkers/.local/lib/python3.9/site-packages (from requests-ntlm>=1.1.0->qiskit-ibmq-provider==0.18.3->qiskit) (1.5.0)\n",
      "Requirement already satisfied: cryptography>=1.3 in /usr/lib/python3/dist-packages (from requests-ntlm>=1.1.0->qiskit-ibmq-provider==0.18.3->qiskit) (3.3.2)\n",
      "Requirement already satisfied: pbr!=2.1.0,>=2.0.0 in /usr/lib/python3/dist-packages (from stevedore>=3.0.0->qiskit-terra==0.19.2->qiskit) (5.5.0)\n"
     ]
    }
   ],
   "source": [
    "!pip install qiskit"
   ]
  },
  {
   "cell_type": "code",
   "execution_count": 2,
   "id": "efe57e19-70f4-41d8-b6c6-83d8dde85bf3",
   "metadata": {},
   "outputs": [],
   "source": [
    "import qiskit\n",
    "from qiskit import QuantumCircuit, QuantumRegister, ClassicalRegister\n",
    "from qiskit import Aer, transpile, assemble\n",
    "import math\n",
    "import random\n",
    "import numpy as np\n",
    "from scipy.optimize import minimize"
   ]
  },
  {
   "cell_type": "code",
   "execution_count": null,
   "id": "04794231-d574-4b73-acf5-6aa28afaad71",
   "metadata": {},
   "outputs": [],
   "source": []
  }
 ],
 "metadata": {
  "kernelspec": {
   "display_name": "Python 3",
   "language": "python",
   "name": "python3"
  },
  "language_info": {
   "codemirror_mode": {
    "name": "ipython",
    "version": 3
   },
   "file_extension": ".py",
   "mimetype": "text/x-python",
   "name": "python",
   "nbconvert_exporter": "python",
   "pygments_lexer": "ipython3",
   "version": "3.9.2"
  }
 },
 "nbformat": 4,
 "nbformat_minor": 5
}
