{
 "cells": [
  {
   "cell_type": "code",
   "execution_count": null,
   "id": "82015568",
   "metadata": {},
   "outputs": [],
   "source": [
    "# !pip install qiskit"
   ]
  },
  {
   "cell_type": "markdown",
   "id": "5689d678",
   "metadata": {},
   "source": [
    "# VQLS with Qiskit\n",
    "**Course**: Applied Quantum Algorithms\n",
    "\n",
    "**Date**: April 20, 2022"
   ]
  },
  {
   "cell_type": "markdown",
   "id": "75cc419f",
   "metadata": {},
   "source": [
    "In this notebook, we will solve a linear system of the form\n",
    "$$\n",
    "A|x\\rangle = |b\\rangle\n",
    "$$\n",
    "by implementing the VQLS algorithm in Qiskit.\n",
    "\n",
    "We will first build some of the functions ourselves and verify them, but then use the compact libraries of Qiskit to build the final version of the cost function for optimization."
   ]
  },
  {
   "cell_type": "code",
   "execution_count": 5,
   "id": "3d13c702",
   "metadata": {},
   "outputs": [],
   "source": [
    "import numpy as np\n",
    "from qiskit import Aer\n",
    "from qiskit.circuit.library.n_local import TwoLocal\n",
    "from qiskit.opflow import (Z, I, H, CircuitStateFn, StateFn)\n",
    "from qiskit.quantum_info import Statevector"
   ]
  },
  {
   "cell_type": "markdown",
   "id": "fea0d59d",
   "metadata": {},
   "source": [
    "First off, we know that all hybrid variational algorithms use a parametrized quantum circuit $U(\\theta)$ to represent the tentative solution as\n",
    "\n",
    "$$\n",
    "|\\psi(\\theta)\\rangle = U(\\theta) |0\\rangle^{\\otimes n},\n",
    "$$\n",
    "\n",
    "where $N$ is the dimension of our linear system and $n=\\log_2 N$.\n",
    "\n",
    "For this exercise, we want to build the following ansatz on 3 qubits\n",
    "\n",
    "![ansatz](ansatz.png)\n",
    "\n",
    "Notice that the CZ-gates are arranged with a *full-entanglement* logic, so controls and targets are respectively:\n",
    "1. 0 -> 1\n",
    "2. 0 -> 2\n",
    "3. 1 -> 2"
   ]
  },
  {
   "cell_type": "code",
   "execution_count": 20,
   "id": "dcd7b58a",
   "metadata": {},
   "outputs": [],
   "source": [
    "from qiskit import QuantumCircuit\n",
    "\n",
    "def build_ansatz(params):\n",
    "    \"\"\"\n",
    "    Returns the ansatz circuit for representing |\\psi(\\theta)>\n",
    "    \n",
    "    Arguments:\n",
    "        params: np.ndarray containing the parameters of the rotation gates\n",
    "    \"\"\"\n",
    "    qc = QuantumCircuit(3)\n",
    "    \n",
    "    # ===============\n",
    "    # YOUR CODE BELOW\n",
    "    # ===============\n",
    "    \n",
    "    return qc"
   ]
  },
  {
   "cell_type": "code",
   "execution_count": 21,
   "id": "7428276b",
   "metadata": {},
   "outputs": [
    {
     "data": {
      "image/png": "[encoded data removed]",
      "text/plain": [
       "<Figure size 387.597x204.68 with 1 Axes>"
      ]
     },
     "execution_count": 21,
     "metadata": {},
     "output_type": "execute_result"
    }
   ],
   "source": [
    "theta_0 = np.random.uniform(-2 * np.pi, 2 * np.pi, size=6)\n",
    "\n",
    "ansatz = build_ansatz(theta_0)\n",
    "\n",
    "ansatz.draw(output='mpl')"
   ]
  },
  {
   "cell_type": "code",
   "execution_count": 160,
   "id": "ac0b3d32",
   "metadata": {},
   "outputs": [],
   "source": [
    "backend = Aer.get_backend('statevector_simulator')"
   ]
  },
  {
   "cell_type": "code",
   "execution_count": 189,
   "id": "e42c8cb4",
   "metadata": {},
   "outputs": [],
   "source": [
    "A = 0.55 * (I ^ I ^ I) \\\n",
    "    + 0.225 * (I ^ Z ^ I) \\\n",
    "        + 0.225 * (I ^ I ^ Z)\n",
    "\n",
    "B = (H ^ H ^ H).to_pauli_op()"
   ]
  },
  {
   "cell_type": "code",
   "execution_count": 188,
   "id": "8c2812d8",
   "metadata": {},
   "outputs": [
    {
     "name": "stdout",
     "output_type": "stream",
     "text": [
      "[[ 0.35355339+0.j  0.35355339+0.j  0.35355339+0.j  0.35355339+0.j\n",
      "   0.35355339+0.j  0.35355339+0.j  0.35355339+0.j  0.35355339+0.j]\n",
      " [ 0.35355339+0.j -0.35355339+0.j  0.35355339+0.j -0.35355339+0.j\n",
      "   0.35355339+0.j -0.35355339+0.j  0.35355339+0.j -0.35355339+0.j]\n",
      " [ 0.35355339+0.j  0.35355339+0.j -0.35355339+0.j -0.35355339+0.j\n",
      "   0.35355339+0.j  0.35355339+0.j -0.35355339+0.j -0.35355339+0.j]\n",
      " [ 0.35355339+0.j -0.35355339+0.j -0.35355339+0.j  0.35355339+0.j\n",
      "   0.35355339+0.j -0.35355339+0.j -0.35355339+0.j  0.35355339+0.j]\n",
      " [ 0.35355339+0.j  0.35355339+0.j  0.35355339+0.j  0.35355339+0.j\n",
      "  -0.35355339+0.j -0.35355339+0.j -0.35355339+0.j -0.35355339+0.j]\n",
      " [ 0.35355339+0.j -0.35355339+0.j  0.35355339+0.j -0.35355339+0.j\n",
      "  -0.35355339+0.j  0.35355339+0.j -0.35355339+0.j  0.35355339+0.j]\n",
      " [ 0.35355339+0.j  0.35355339+0.j -0.35355339+0.j -0.35355339+0.j\n",
      "  -0.35355339+0.j -0.35355339+0.j  0.35355339+0.j  0.35355339+0.j]\n",
      " [ 0.35355339+0.j -0.35355339+0.j -0.35355339+0.j  0.35355339+0.j\n",
      "  -0.35355339+0.j  0.35355339+0.j  0.35355339+0.j -0.35355339+0.j]]\n"
     ]
    }
   ],
   "source": []
  },
  {
   "cell_type": "code",
   "execution_count": 190,
   "id": "0ce7fb1e",
   "metadata": {},
   "outputs": [
    {
     "data": {
      "text/plain": [
       "PauliSumOp(SparsePauliOp(['III', 'IZI', 'IIZ'],\n",
       "              coeffs=[0.55 +0.j, 0.225+0.j, 0.225+0.j]), coeff=1.0)"
      ]
     },
     "execution_count": 190,
     "metadata": {},
     "output_type": "execute_result"
    }
   ],
   "source": [
    "A"
   ]
  },
  {
   "cell_type": "code",
   "execution_count": 191,
   "id": "3cac013c",
   "metadata": {},
   "outputs": [
    {
     "data": {
      "text/plain": [
       "SummedOp([PauliOp(Pauli('XXX'), coeff=0.3535533905932737), PauliOp(Pauli('XXZ'), coeff=0.3535533905932737), PauliOp(Pauli('XZX'), coeff=0.3535533905932737), PauliOp(Pauli('XZZ'), coeff=0.3535533905932737), PauliOp(Pauli('ZXX'), coeff=0.3535533905932737), PauliOp(Pauli('ZXZ'), coeff=0.3535533905932737), PauliOp(Pauli('ZZX'), coeff=0.3535533905932737), PauliOp(Pauli('ZZZ'), coeff=0.3535533905932737)], coeff=1.0, abelian=False)"
      ]
     },
     "execution_count": 191,
     "metadata": {},
     "output_type": "execute_result"
    }
   ],
   "source": [
    "B"
   ]
  },
  {
   "cell_type": "code",
   "execution_count": 192,
   "id": "d7436564",
   "metadata": {},
   "outputs": [],
   "source": [
    "A_squared = (~A) @ A"
   ]
  },
  {
   "cell_type": "code",
   "execution_count": 230,
   "id": "857cf5d0",
   "metadata": {},
   "outputs": [
    {
     "name": "stdout",
     "output_type": "stream",
     "text": [
      "0.55 * III\n",
      "+ 0.225 * IZI\n",
      "+ 0.225 * IIZ\n"
     ]
    }
   ],
   "source": [
    "print(~A)"
   ]
  },
  {
   "cell_type": "code",
   "execution_count": 194,
   "id": "f706f966",
   "metadata": {},
   "outputs": [],
   "source": [
    "zero_proj = 0.5 * (I + Z)\n",
    "zero_proj_3 = zero_proj ^ zero_proj ^ zero_proj"
   ]
  },
  {
   "cell_type": "code",
   "execution_count": 195,
   "id": "53ea7eda",
   "metadata": {},
   "outputs": [
    {
     "name": "stdout",
     "output_type": "stream",
     "text": [
      "[[1.+0.j 0.+0.j 0.+0.j 0.+0.j 0.+0.j 0.+0.j 0.+0.j 0.+0.j]\n",
      " [0.+0.j 0.+0.j 0.+0.j 0.+0.j 0.+0.j 0.+0.j 0.+0.j 0.+0.j]\n",
      " [0.+0.j 0.+0.j 0.+0.j 0.+0.j 0.+0.j 0.+0.j 0.+0.j 0.+0.j]\n",
      " [0.+0.j 0.+0.j 0.+0.j 0.+0.j 0.+0.j 0.+0.j 0.+0.j 0.+0.j]\n",
      " [0.+0.j 0.+0.j 0.+0.j 0.+0.j 0.+0.j 0.+0.j 0.+0.j 0.+0.j]\n",
      " [0.+0.j 0.+0.j 0.+0.j 0.+0.j 0.+0.j 0.+0.j 0.+0.j 0.+0.j]\n",
      " [0.+0.j 0.+0.j 0.+0.j 0.+0.j 0.+0.j 0.+0.j 0.+0.j 0.+0.j]\n",
      " [0.+0.j 0.+0.j 0.+0.j 0.+0.j 0.+0.j 0.+0.j 0.+0.j 0.+0.j]]\n"
     ]
    }
   ],
   "source": [
    "print(zero_proj_3.to_matrix())"
   ]
  },
  {
   "cell_type": "code",
   "execution_count": 196,
   "id": "4fc91eb8",
   "metadata": {},
   "outputs": [],
   "source": [
    "A_b_proj = (~A) @ (~B) @ zero_proj_3 @ B @ A"
   ]
  },
  {
   "cell_type": "code",
   "execution_count": 197,
   "id": "735e7f3e",
   "metadata": {},
   "outputs": [
    {
     "name": "stdout",
     "output_type": "stream",
     "text": [
      "ComposedOp([\n",
      "  0.55 * III\n",
      "  + 0.225 * IZI\n",
      "  + 0.225 * IIZ,\n",
      "  SummedOp([\n",
      "    0.3535533905932737 * XXX,\n",
      "    0.3535533905932737 * XXZ,\n",
      "    0.3535533905932737 * XZX,\n",
      "    0.3535533905932737 * XZZ,\n",
      "    0.3535533905932737 * ZXX,\n",
      "    0.3535533905932737 * ZXZ,\n",
      "    0.3535533905932737 * ZZX,\n",
      "    0.3535533905932737 * ZZZ\n",
      "  ]),\n",
      "  0.125 * III\n",
      "  + 0.125 * IIZ\n",
      "  + 0.125 * IZI\n",
      "  + 0.125 * IZZ\n",
      "  + 0.125 * ZII\n",
      "  + 0.125 * ZIZ\n",
      "  + 0.125 * ZZI\n",
      "  + 0.125 * ZZZ,\n",
      "  SummedOp([\n",
      "    0.3535533905932737 * XXX,\n",
      "    0.3535533905932737 * XXZ,\n",
      "    0.3535533905932737 * XZX,\n",
      "    0.3535533905932737 * XZZ,\n",
      "    0.3535533905932737 * ZXX,\n",
      "    0.3535533905932737 * ZXZ,\n",
      "    0.3535533905932737 * ZZX,\n",
      "    0.3535533905932737 * ZZZ\n",
      "  ]),\n",
      "  0.55 * III\n",
      "  + 0.225 * IZI\n",
      "  + 0.225 * IIZ\n",
      "])\n"
     ]
    }
   ],
   "source": [
    "print(A_b_proj)"
   ]
  },
  {
   "cell_type": "code",
   "execution_count": 16,
   "id": "c31e3b15",
   "metadata": {},
   "outputs": [
    {
     "name": "stdout",
     "output_type": "stream",
     "text": [
      "OPENQASM 2.0;\n",
      "include \"qelib1.inc\";\n",
      "qreg q[3];\n",
      "ry(-0.627577910588899) q[0];\n",
      "ry(0.608833308240603) q[1];\n",
      "ry(-0.434913409877861) q[2];\n",
      "barrier q[0],q[1],q[2];\n",
      "cz q[0],q[1];\n",
      "cz q[0],q[2];\n",
      "cz q[1],q[2];\n",
      "barrier q[0],q[1],q[2];\n",
      "ry(3.39208404016469) q[0];\n",
      "ry(-2.97268895158477) q[1];\n",
      "ry(-5.01574960076825) q[2];\n",
      "\n"
     ]
    }
   ],
   "source": [
    "ansatz = TwoLocal(3, 'ry', 'cz', 'full', reps=1, insert_barriers=True)\n",
    "# fig = ansatz.decompose().draw(output='mpl')\n",
    "# fig.savefig('ansatz.png', bbox_inches='tight')\n",
    "print(ansatz.assign_parameters(theta_0).decompose().qasm())"
   ]
  },
  {
   "cell_type": "code",
   "execution_count": 14,
   "id": "c51a6039",
   "metadata": {},
   "outputs": [],
   "source": [
    "theta_0 = np.random.uniform(-2 * np.pi, 2 * np.pi, size=ansatz.num_parameters)\n",
    "# print(theta_0)\n",
    "# psi = CircuitStateFn(ansatz.assign_parameters(theta_0))\n",
    "# print(psi)"
   ]
  },
  {
   "cell_type": "code",
   "execution_count": 79,
   "id": "d7fd7126",
   "metadata": {},
   "outputs": [
    {
     "name": "stdout",
     "output_type": "stream",
     "text": [
      "0.37311992427648655\n",
      "0.15629807532942014\n"
     ]
    }
   ],
   "source": [
    "ev1 = StateFn(A_squared).adjoint().eval(psi)\n",
    "ev2 = StateFn(A_b_proj).adjoint().eval(psi)\n",
    "print(ev1.real)\n",
    "print(ev2.real)\n",
    "# expectation = AerPauliExpectation().convert(measurable)\n",
    "# sampler = CircuitSampler(backend).convert(expectation)  \n",
    "# print('Snapshot:', sampler.eval().real) "
   ]
  },
  {
   "cell_type": "code",
   "execution_count": 251,
   "id": "963b15f7",
   "metadata": {},
   "outputs": [],
   "source": [
    "def cost(params):\n",
    "    \"\"\"\n",
    "    Returns the global un-normalized cost function for VQLS:\n",
    "    C_G = <\\psi| (~A (1-|b><b|) A) |\\psi>\n",
    "    \"\"\"\n",
    "    psi = CircuitStateFn(ansatz.assign_parameters(params))\n",
    "    \n",
    "    ev1 = StateFn(A_squared).adjoint().eval(psi)\n",
    "    ev2 = StateFn(A_b_proj).adjoint().eval(psi)\n",
    "\n",
    "    return ev1.real - ev2.real"
   ]
  },
  {
   "cell_type": "code",
   "execution_count": 252,
   "id": "888ed570",
   "metadata": {},
   "outputs": [
    {
     "name": "stdout",
     "output_type": "stream",
     "text": [
      "     fun: 1.702769435174556e-08\n",
      "   maxcv: 0.0\n",
      " message: 'Optimization terminated successfully.'\n",
      "    nfev: 268\n",
      "  status: 1\n",
      " success: True\n",
      "       x: array([-2.69235195, -3.43220098, -3.14092646, -0.81663543,  6.16219595,\n",
      "       -1.57221482])\n"
     ]
    }
   ],
   "source": [
    "out = minimize(cost, x0=theta_0, method=\"COBYLA\", options={'maxiter':500})\n",
    "print(out)"
   ]
  },
  {
   "cell_type": "code",
   "execution_count": 253,
   "id": "9157bf5a",
   "metadata": {},
   "outputs": [
    {
     "name": "stdout",
     "output_type": "stream",
     "text": [
      "[-0.06822417+0.j -0.12409873+0.j -0.12385793+0.j -0.68192812+0.j\n",
      " -0.06813169+0.j -0.12387863+0.j -0.12395813+0.j -0.68134041+0.j]\n"
     ]
    }
   ],
   "source": [
    "theta_opt = out.x\n",
    "zero_state = Statevector.from_label('000')\n",
    "psi_opt = zero_state.evolve(ansatz.assign_parameters(theta_opt))\n",
    "psi_opt_vector = psi_opt.data\n",
    "print(psi_opt_vector)"
   ]
  },
  {
   "cell_type": "code",
   "execution_count": 254,
   "id": "988535f4",
   "metadata": {},
   "outputs": [
    {
     "data": {
      "text/plain": [
       "array([[1.  +0.j, 0.  +0.j, 0.  +0.j, 0.  +0.j, 0.  +0.j, 0.  +0.j,\n",
       "        0.  +0.j, 0.  +0.j],\n",
       "       [0.  +0.j, 0.55+0.j, 0.  +0.j, 0.  +0.j, 0.  +0.j, 0.  +0.j,\n",
       "        0.  +0.j, 0.  +0.j],\n",
       "       [0.  +0.j, 0.  +0.j, 0.55+0.j, 0.  +0.j, 0.  +0.j, 0.  +0.j,\n",
       "        0.  +0.j, 0.  +0.j],\n",
       "       [0.  +0.j, 0.  +0.j, 0.  +0.j, 0.1 +0.j, 0.  +0.j, 0.  +0.j,\n",
       "        0.  +0.j, 0.  +0.j],\n",
       "       [0.  +0.j, 0.  +0.j, 0.  +0.j, 0.  +0.j, 1.  +0.j, 0.  +0.j,\n",
       "        0.  +0.j, 0.  +0.j],\n",
       "       [0.  +0.j, 0.  +0.j, 0.  +0.j, 0.  +0.j, 0.  +0.j, 0.55+0.j,\n",
       "        0.  +0.j, 0.  +0.j],\n",
       "       [0.  +0.j, 0.  +0.j, 0.  +0.j, 0.  +0.j, 0.  +0.j, 0.  +0.j,\n",
       "        0.55+0.j, 0.  +0.j],\n",
       "       [0.  +0.j, 0.  +0.j, 0.  +0.j, 0.  +0.j, 0.  +0.j, 0.  +0.j,\n",
       "        0.  +0.j, 0.1 +0.j]])"
      ]
     },
     "execution_count": 254,
     "metadata": {},
     "output_type": "execute_result"
    }
   ],
   "source": [
    "A.to_matrix()\n",
    "# B.to_matrix()"
   ]
  },
  {
   "cell_type": "code",
   "execution_count": 255,
   "id": "aa942d25",
   "metadata": {},
   "outputs": [
    {
     "data": {
      "text/plain": [
       "1.1928170965030842"
      ]
     },
     "execution_count": 255,
     "metadata": {},
     "output_type": "execute_result"
    }
   ],
   "source": [
    "np.linalg.norm((A.to_matrix().real @ psi_opt_vector.real) - (1/np.sqrt(8) * np.ones(8)))"
   ]
  },
  {
   "cell_type": "code",
   "execution_count": 256,
   "id": "5cce4ad3",
   "metadata": {},
   "outputs": [
    {
     "name": "stdout",
     "output_type": "stream",
     "text": [
      "[0.35355339+0.j 0.35355339+0.j 0.35355339+0.j 0.35355339+0.j\n",
      " 0.35355339+0.j 0.35355339+0.j 0.35355339+0.j 0.35355339+0.j]\n",
      "[0.35355339 0.35355339 0.35355339 0.35355339 0.35355339 0.35355339\n",
      " 0.35355339 0.35355339]\n"
     ]
    }
   ],
   "source": [
    "zero_state = Statevector.from_label('000')\n",
    "b_ket = B.to_matrix() @ zero_state.data\n",
    "print(b_ket)\n",
    "print(1/np.sqrt(8) * np.ones(8))"
   ]
  },
  {
   "cell_type": "code",
   "execution_count": 260,
   "id": "b9886527",
   "metadata": {},
   "outputs": [
    {
     "name": "stdout",
     "output_type": "stream",
     "text": [
      "[0.35355339+0.j 0.64282435+0.j 0.64282435+0.j 3.53553391+0.j\n",
      " 0.35355339+0.j 0.64282435+0.j 0.64282435+0.j 3.53553391+0.j]\n",
      "5.186799838241634\n"
     ]
    }
   ],
   "source": [
    "x_true = np.linalg.solve(A.to_matrix(), (1/np.sqrt(8) * np.ones(8)))\n",
    "print(x_true)\n",
    "print(np.linalg.norm(x_true))"
   ]
  },
  {
   "cell_type": "code",
   "execution_count": 258,
   "id": "88da136c",
   "metadata": {},
   "outputs": [
    {
     "data": {
      "text/plain": [
       "(-5.1822310952685875-0j)"
      ]
     },
     "execution_count": 258,
     "metadata": {},
     "output_type": "execute_result"
    }
   ],
   "source": [
    "x_true[0] / psi_opt_vector[0]"
   ]
  },
  {
   "cell_type": "code",
   "execution_count": 259,
   "id": "674259e5",
   "metadata": {},
   "outputs": [
    {
     "data": {
      "text/plain": [
       "array([-0.35355127+0.j, -0.64310442+0.j, -0.64185657+0.j, -3.53388792+0.j,\n",
       "       -0.35307203+0.j, -0.64196385+0.j, -0.6423758 +0.j, -3.53084229+0.j])"
      ]
     },
     "execution_count": 259,
     "metadata": {},
     "output_type": "execute_result"
    }
   ],
   "source": [
    "5.1822 * psi_opt_vector"
   ]
  },
  {
   "cell_type": "code",
   "execution_count": null,
   "id": "62742856",
   "metadata": {},
   "outputs": [],
   "source": []
  }
 ],
 "metadata": {
  "kernelspec": {
   "display_name": "Python 3 (ipykernel)",
   "language": "python",
   "name": "python3"
  },
  "language_info": {
   "codemirror_mode": {
    "name": "ipython",
    "version": 3
   },
   "file_extension": ".py",
   "mimetype": "text/x-python",
   "name": "python",
   "nbconvert_exporter": "python",
   "pygments_lexer": "ipython3",
   "version": "3.9.12"
  }
 },
 "nbformat": 4,
 "nbformat_minor": 5
}
