{
 "cells": [
  {
   "cell_type": "code",
   "execution_count": null,
   "id": "82015568",
   "metadata": {},
   "outputs": [],
   "source": [
    "# !pip install qiskit"
   ]
  },
  {
   "cell_type": "markdown",
   "id": "5689d678",
   "metadata": {},
   "source": [
    "# VQLS with Qiskit\n",
    "**Course**: Applied Quantum Algorithms\n",
    "\n",
    "**Date**: April 20, 2022"
   ]
  },
  {
   "cell_type": "code",
   "execution_count": 13,
   "id": "3d13c702",
   "metadata": {},
   "outputs": [],
   "source": [
    "from qiskit import QuantumCircuit\n",
    "from qiskit.circuit.library.n_local import TwoLocal\n",
    "from qiskit.opflow import X, Y, Z, I, H"
   ]
  },
  {
   "cell_type": "code",
   "execution_count": 14,
   "id": "e42c8cb4",
   "metadata": {},
   "outputs": [],
   "source": [
    "A = 0.55 * I ^ I ^ I \\\n",
    "    + 0.225 * I ^ Z ^ I \\\n",
    "        + 0.225 * I ^ I ^ Z\n",
    "\n",
    "B = H ^ H ^ H"
   ]
  },
  {
   "cell_type": "code",
   "execution_count": 24,
   "id": "c31e3b15",
   "metadata": {},
   "outputs": [
    {
     "name": "stdout",
     "output_type": "stream",
     "text": [
      "     ┌──────────┐ ░           ░ ┌──────────┐ ░           ░ ┌──────────┐\n",
      "q_0: ┤ Ry(θ[0]) ├─░──■──■─────░─┤ Ry(θ[3]) ├─░──■──■─────░─┤ Ry(θ[6]) ├\n",
      "     ├──────────┤ ░  │  │     ░ ├──────────┤ ░  │  │     ░ ├──────────┤\n",
      "q_1: ┤ Ry(θ[1]) ├─░──■──┼──■──░─┤ Ry(θ[4]) ├─░──■──┼──■──░─┤ Ry(θ[7]) ├\n",
      "     ├──────────┤ ░     │  │  ░ ├──────────┤ ░     │  │  ░ ├──────────┤\n",
      "q_2: ┤ Ry(θ[2]) ├─░─────■──■──░─┤ Ry(θ[5]) ├─░─────■──■──░─┤ Ry(θ[8]) ├\n",
      "     └──────────┘ ░           ░ └──────────┘ ░           ░ └──────────┘\n"
     ]
    }
   ],
   "source": [
    "ansatz = TwoLocal(3, 'ry', 'cz', 'full', reps=2, insert_barriers=True)\n",
    "# qc = QuantumCircuit(3)\n",
    "# qc += ansatz\n",
    "print(ansatz.decompose().draw())"
   ]
  },
  {
   "cell_type": "code",
   "execution_count": null,
   "id": "c51a6039",
   "metadata": {},
   "outputs": [],
   "source": []
  }
 ],
 "metadata": {
  "kernelspec": {
   "display_name": "Python 3 (ipykernel)",
   "language": "python",
   "name": "python3"
  },
  "language_info": {
   "codemirror_mode": {
    "name": "ipython",
    "version": 3
   },
   "file_extension": ".py",
   "mimetype": "text/x-python",
   "name": "python",
   "nbconvert_exporter": "python",
   "pygments_lexer": "ipython3",
   "version": "3.9.12"
  }
 },
 "nbformat": 4,
 "nbformat_minor": 5
}
