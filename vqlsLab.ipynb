{
 "cells": [
  {
   "cell_type": "code",
   "execution_count": null,
   "id": "82015568",
   "metadata": {},
   "outputs": [],
   "source": [
    "# !pip install qiskit"
   ]
  },
  {
   "cell_type": "markdown",
   "id": "5689d678",
   "metadata": {},
   "source": [
    "# VQLS with Qiskit\n",
    "**Course**: Applied Quantum Algorithms\n",
    "\n",
    "**Date**: April 20, 2022"
   ]
  },
  {
   "cell_type": "markdown",
   "id": "75cc419f",
   "metadata": {},
   "source": [
    "In this notebook, we will solve a linear system of the form\n",
    "$$\n",
    "A|x\\rangle = |b\\rangle\n",
    "$$\n",
    "by implementing the VQLS algorithm in Qiskit.\n",
    "\n",
    "We will first build some of the functions ourselves and verify them, but then use the compact libraries of Qiskit to build the final version of the cost function for optimization."
   ]
  },
  {
   "cell_type": "code",
   "execution_count": null,
   "id": "3d13c702",
   "metadata": {},
   "outputs": [],
   "source": [
    "import numpy as np\n",
    "from qiskit import Aer\n",
    "from qiskit.circuit.library.n_local import TwoLocal\n",
    "from qiskit.opflow import (Z, I, H, CircuitStateFn, StateFn)\n",
    "from qiskit.quantum_info import Statevector"
   ]
  },
  {
   "cell_type": "markdown",
   "id": "7ba222af",
   "metadata": {},
   "source": [
    "## Ansatz"
   ]
  },
  {
   "cell_type": "markdown",
   "id": "fea0d59d",
   "metadata": {},
   "source": [
    "First off, we know that all hybrid variational algorithms use a parametrized quantum circuit $U(\\theta)$ to represent the tentative solution as\n",
    "\n",
    "$$\n",
    "|\\psi(\\theta)\\rangle = U(\\theta) |0\\rangle^{\\otimes n},\n",
    "$$\n",
    "\n",
    "where $N$ is the dimension of our linear system and $n=\\log_2 N$.\n",
    "\n",
    "For this exercise, we want to build the following ansatz on 3 qubits\n",
    "\n",
    "![ansatz](ansatz.png)\n",
    "\n",
    "Notice that the CZ-gates are arranged with a *full-entanglement* logic, so controls and targets are respectively:\n",
    "1. 0 -> 1\n",
    "2. 0 -> 2\n",
    "3. 1 -> 2"
   ]
  },
  {
   "cell_type": "code",
   "execution_count": null,
   "id": "a8e3e740",
   "metadata": {},
   "outputs": [],
   "source": [
    "from qiskit import QuantumCircuit\n",
    "\n",
    "def build_ansatz(params):\n",
    "    \"\"\"\n",
    "    Returns the ansatz circuit for representing |\\psi(\\theta)>\n",
    "    \n",
    "    Arguments:\n",
    "        params: np.ndarray containing the parameters of the rotation gates\n",
    "    \"\"\"\n",
    "    qc = QuantumCircuit(3)\n",
    "    \n",
    "    # ===============\n",
    "    # YOUR CODE BELOW\n",
    "    # ===============\n",
    "    \n",
    "    return qc"
   ]
  },
  {
   "cell_type": "markdown",
   "id": "28b78f94",
   "metadata": {},
   "source": [
    "Let's check our implementation using some random parameters as argument to our function"
   ]
  },
  {
   "cell_type": "code",
   "execution_count": null,
   "id": "6099c0bd",
   "metadata": {},
   "outputs": [],
   "source": [
    "rng = np.random.default_rng(1)\n",
    "\n",
    "theta_0 = rng.uniform(-2 * np.pi, 2 * np.pi, size=6)\n",
    "\n",
    "ansatz = build_ansatz(theta_0)\n",
    "\n",
    "ansatz.draw(output='mpl')"
   ]
  },
  {
   "cell_type": "markdown",
   "id": "e6320a79",
   "metadata": {},
   "source": [
    "Instead of creating parametrized circuits yourself, Qiskit offers a set of ansatz templates that you can directly use. For instance, we can use the `TwoLocal` class to produce the same ansatz that we just created"
   ]
  },
  {
   "cell_type": "code",
   "execution_count": null,
   "id": "f7aa5ba8",
   "metadata": {},
   "outputs": [],
   "source": [
    "ansatz = TwoLocal(3, 'ry', 'cz', 'full', reps=1, insert_barriers=True)\n",
    "qc = ansatz.assign_parameters(theta_0).decompose()\n",
    "qc.draw(output='mpl')"
   ]
  },
  {
   "cell_type": "markdown",
   "id": "675dfb6f",
   "metadata": {},
   "source": [
    "## Expectation value"
   ]
  },
  {
   "cell_type": "markdown",
   "id": "522907b6",
   "metadata": {},
   "source": [
    "Let's assume that our problem is the following:\n",
    "\n",
    "Find $|x\\rangle$, such that $A|x\\rangle=|b\\rangle$, where\n",
    "\n",
    "$$\n",
    "A = 0.55 I + 0.225 Z_1 + 0.225 Z_2\n",
    "$$\n",
    "\n",
    "and\n",
    "\n",
    "$$\n",
    "|b\\rangle = B |0\\rangle^{\\otimes 3} = H^{\\otimes 3} |0\\rangle^{\\otimes 3}.\n",
    "$$\n",
    "\n",
    "We know that a possible cost function used in VQLS is\n",
    "\n",
    "$$\n",
    "C(\\theta) = \\langle\\psi(\\theta)| A^\\dagger (I - |b\\rangle\\langle b|) A |\\psi(\\theta)\\rangle,\n",
    "$$\n",
    "\n",
    "which we can also write as\n",
    "\n",
    "$$\n",
    "C(\\theta) = \\langle\\psi(\\theta)| A^\\dagger A |\\psi(\\theta)\\rangle - \\langle\\psi(\\theta)| A^\\dagger B |0\\rangle\\langle 0 | B^\\dagger A |\\psi(\\theta)\\rangle.\n",
    "$$\n",
    "\n",
    "Thus, we need to evaluate terms such "
   ]
  },
  {
   "cell_type": "code",
   "execution_count": null,
   "id": "ac0b3d32",
   "metadata": {},
   "outputs": [],
   "source": [
    "backend = Aer.get_backend('statevector_simulator')"
   ]
  },
  {
   "cell_type": "code",
   "execution_count": null,
   "id": "e42c8cb4",
   "metadata": {},
   "outputs": [],
   "source": [
    "A = 0.55 * (I ^ I ^ I) \\\n",
    "    + 0.225 * (I ^ Z ^ I) \\\n",
    "        + 0.225 * (I ^ I ^ Z)\n",
    "\n",
    "B = (H ^ H ^ H).to_pauli_op()"
   ]
  },
  {
   "cell_type": "code",
   "execution_count": null,
   "id": "0ce7fb1e",
   "metadata": {},
   "outputs": [],
   "source": [
    "A"
   ]
  },
  {
   "cell_type": "code",
   "execution_count": null,
   "id": "3cac013c",
   "metadata": {},
   "outputs": [],
   "source": [
    "B"
   ]
  },
  {
   "cell_type": "code",
   "execution_count": null,
   "id": "d7436564",
   "metadata": {},
   "outputs": [],
   "source": [
    "A_squared = (~A) @ A"
   ]
  },
  {
   "cell_type": "code",
   "execution_count": null,
   "id": "857cf5d0",
   "metadata": {},
   "outputs": [],
   "source": [
    "A_squared"
   ]
  },
  {
   "cell_type": "code",
   "execution_count": null,
   "id": "f706f966",
   "metadata": {},
   "outputs": [],
   "source": [
    "zero_proj = 0.5 * (I + Z)\n",
    "zero_proj_3 = zero_proj ^ zero_proj ^ zero_proj"
   ]
  },
  {
   "cell_type": "code",
   "execution_count": null,
   "id": "53ea7eda",
   "metadata": {},
   "outputs": [],
   "source": [
    "print(zero_proj_3.to_matrix())"
   ]
  },
  {
   "cell_type": "code",
   "execution_count": null,
   "id": "4fc91eb8",
   "metadata": {},
   "outputs": [],
   "source": [
    "A_b_proj = (~A) @ (~B) @ zero_proj_3 @ B @ A"
   ]
  },
  {
   "cell_type": "code",
   "execution_count": null,
   "id": "735e7f3e",
   "metadata": {},
   "outputs": [],
   "source": [
    "print(A_b_proj)"
   ]
  },
  {
   "cell_type": "code",
   "execution_count": null,
   "id": "c31e3b15",
   "metadata": {},
   "outputs": [],
   "source": [
    "ansatz = TwoLocal(3, 'ry', 'cz', 'full', reps=1, insert_barriers=True)\n",
    "# fig = ansatz.decompose().draw(output='mpl')\n",
    "# fig.savefig('ansatz.png', bbox_inches='tight')\n",
    "print(ansatz.assign_parameters(theta_0).decompose().qasm())"
   ]
  },
  {
   "cell_type": "code",
   "execution_count": null,
   "id": "c51a6039",
   "metadata": {},
   "outputs": [],
   "source": [
    "theta_0 = np.random.uniform(-2 * np.pi, 2 * np.pi, size=ansatz.num_parameters)\n",
    "# print(theta_0)\n",
    "# psi = CircuitStateFn(ansatz.assign_parameters(theta_0))\n",
    "# print(psi)"
   ]
  },
  {
   "cell_type": "code",
   "execution_count": null,
   "id": "d7fd7126",
   "metadata": {},
   "outputs": [],
   "source": [
    "ev1 = StateFn(A_squared).adjoint().eval(psi)\n",
    "ev2 = StateFn(A_b_proj).adjoint().eval(psi)\n",
    "print(ev1.real)\n",
    "print(ev2.real)\n",
    "# expectation = AerPauliExpectation().convert(measurable)\n",
    "# sampler = CircuitSampler(backend).convert(expectation)  \n",
    "# print('Snapshot:', sampler.eval().real) "
   ]
  },
  {
   "cell_type": "code",
   "execution_count": null,
   "id": "963b15f7",
   "metadata": {},
   "outputs": [],
   "source": [
    "def cost(params):\n",
    "    \"\"\"\n",
    "    Returns the global un-normalized cost function for VQLS:\n",
    "    C_G = <\\psi| (~A (1-|b><b|) A) |\\psi>\n",
    "    \"\"\"\n",
    "    psi = CircuitStateFn(ansatz.assign_parameters(params))\n",
    "    \n",
    "    ev1 = StateFn(A_squared).adjoint().eval(psi)\n",
    "    ev2 = StateFn(A_b_proj).adjoint().eval(psi)\n",
    "\n",
    "    return ev1.real - ev2.real"
   ]
  },
  {
   "cell_type": "code",
   "execution_count": null,
   "id": "888ed570",
   "metadata": {},
   "outputs": [],
   "source": [
    "out = minimize(cost, x0=theta_0, method=\"COBYLA\", options={'maxiter':500})\n",
    "print(out)"
   ]
  },
  {
   "cell_type": "code",
   "execution_count": null,
   "id": "9157bf5a",
   "metadata": {},
   "outputs": [],
   "source": [
    "theta_opt = out.x\n",
    "zero_state = Statevector.from_label('000')\n",
    "psi_opt = zero_state.evolve(ansatz.assign_parameters(theta_opt))\n",
    "psi_opt_vector = psi_opt.data\n",
    "print(psi_opt_vector)"
   ]
  },
  {
   "cell_type": "code",
   "execution_count": null,
   "id": "988535f4",
   "metadata": {},
   "outputs": [],
   "source": [
    "A.to_matrix()\n",
    "# B.to_matrix()"
   ]
  },
  {
   "cell_type": "code",
   "execution_count": null,
   "id": "aa942d25",
   "metadata": {},
   "outputs": [],
   "source": [
    "np.linalg.norm((A.to_matrix().real @ psi_opt_vector.real) - (1/np.sqrt(8) * np.ones(8)))"
   ]
  },
  {
   "cell_type": "code",
   "execution_count": null,
   "id": "5cce4ad3",
   "metadata": {},
   "outputs": [],
   "source": [
    "zero_state = Statevector.from_label('000')\n",
    "b_ket = B.to_matrix() @ zero_state.data\n",
    "print(b_ket)\n",
    "print(1/np.sqrt(8) * np.ones(8))"
   ]
  },
  {
   "cell_type": "code",
   "execution_count": null,
   "id": "b9886527",
   "metadata": {},
   "outputs": [],
   "source": [
    "x_true = np.linalg.solve(A.to_matrix(), (1/np.sqrt(8) * np.ones(8)))\n",
    "print(x_true)\n",
    "print(np.linalg.norm(x_true))"
   ]
  },
  {
   "cell_type": "code",
   "execution_count": null,
   "id": "88da136c",
   "metadata": {},
   "outputs": [],
   "source": [
    "x_true[0] / psi_opt_vector[0]"
   ]
  },
  {
   "cell_type": "code",
   "execution_count": null,
   "id": "674259e5",
   "metadata": {},
   "outputs": [],
   "source": [
    "5.1822 * psi_opt_vector"
   ]
  },
  {
   "cell_type": "code",
   "execution_count": null,
   "id": "62742856",
   "metadata": {},
   "outputs": [],
   "source": []
  }
 ],
 "metadata": {
  "kernelspec": {
   "display_name": "Python 3",
   "language": "python",
   "name": "python3"
  },
  "language_info": {
   "codemirror_mode": {
    "name": "ipython",
    "version": 3
   },
   "file_extension": ".py",
   "mimetype": "text/x-python",
   "name": "python",
   "nbconvert_exporter": "python",
   "pygments_lexer": "ipython3",
   "version": "3.9.2"
  }
 },
 "nbformat": 4,
 "nbformat_minor": 5
}
