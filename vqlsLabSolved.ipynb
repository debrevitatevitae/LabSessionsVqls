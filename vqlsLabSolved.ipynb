{
  "cells": [
    {
      "cell_type": "code",
      "execution_count": 43,
      "id": "82015568",
      "metadata": {
        "id": "82015568",
        "outputId": "12029fff-37b0-4faa-b2e1-846a37092448",
        "colab": {
          "base_uri": "https://localhost:8080/"
        }
      },
      "outputs": [
        {
          "output_type": "stream",
          "name": "stdout",
          "text": [
            "Requirement already satisfied: qiskit in /usr/local/lib/python3.7/dist-packages (0.36.0)\n",
            "Requirement already satisfied: scipy in /usr/local/lib/python3.7/dist-packages (1.7.3)\n",
            "Requirement already satisfied: pylatexenc in /usr/local/lib/python3.7/dist-packages (2.10)\n",
            "Requirement already satisfied: matplotlib in /usr/local/lib/python3.7/dist-packages (3.2.2)\n",
            "Requirement already satisfied: qiskit-terra==0.20.0 in /usr/local/lib/python3.7/dist-packages (from qiskit) (0.20.0)\n",
            "Requirement already satisfied: qiskit-ibmq-provider==0.19.0 in /usr/local/lib/python3.7/dist-packages (from qiskit) (0.19.0)\n",
            "Requirement already satisfied: qiskit-ignis==0.7.0 in /usr/local/lib/python3.7/dist-packages (from qiskit) (0.7.0)\n",
            "Requirement already satisfied: qiskit-aer==0.10.4 in /usr/local/lib/python3.7/dist-packages (from qiskit) (0.10.4)\n",
            "Requirement already satisfied: numpy>=1.16.3 in /usr/local/lib/python3.7/dist-packages (from qiskit-aer==0.10.4->qiskit) (1.21.6)\n",
            "Requirement already satisfied: python-dateutil>=2.8.0 in /usr/local/lib/python3.7/dist-packages (from qiskit-ibmq-provider==0.19.0->qiskit) (2.8.2)\n",
            "Requirement already satisfied: websocket-client>=1.0.1 in /usr/local/lib/python3.7/dist-packages (from qiskit-ibmq-provider==0.19.0->qiskit) (1.3.2)\n",
            "Requirement already satisfied: requests-ntlm>=1.1.0 in /usr/local/lib/python3.7/dist-packages (from qiskit-ibmq-provider==0.19.0->qiskit) (1.1.0)\n",
            "Requirement already satisfied: requests>=2.19 in /usr/local/lib/python3.7/dist-packages (from qiskit-ibmq-provider==0.19.0->qiskit) (2.23.0)\n",
            "Requirement already satisfied: urllib3>=1.21.1 in /usr/local/lib/python3.7/dist-packages (from qiskit-ibmq-provider==0.19.0->qiskit) (1.24.3)\n",
            "Requirement already satisfied: websockets>=10.0 in /usr/local/lib/python3.7/dist-packages (from qiskit-ibmq-provider==0.19.0->qiskit) (10.3)\n",
            "Requirement already satisfied: retworkx>=0.8.0 in /usr/local/lib/python3.7/dist-packages (from qiskit-ignis==0.7.0->qiskit) (0.11.0)\n",
            "Requirement already satisfied: setuptools>=40.1.0 in /usr/local/lib/python3.7/dist-packages (from qiskit-ignis==0.7.0->qiskit) (57.4.0)\n",
            "Requirement already satisfied: python-constraint>=1.4 in /usr/local/lib/python3.7/dist-packages (from qiskit-terra==0.20.0->qiskit) (1.4.0)\n",
            "Requirement already satisfied: ply>=3.10 in /usr/local/lib/python3.7/dist-packages (from qiskit-terra==0.20.0->qiskit) (3.11)\n",
            "Requirement already satisfied: stevedore>=3.0.0 in /usr/local/lib/python3.7/dist-packages (from qiskit-terra==0.20.0->qiskit) (3.5.0)\n",
            "Requirement already satisfied: dill>=0.3 in /usr/local/lib/python3.7/dist-packages (from qiskit-terra==0.20.0->qiskit) (0.3.4)\n",
            "Requirement already satisfied: psutil>=5 in /usr/local/lib/python3.7/dist-packages (from qiskit-terra==0.20.0->qiskit) (5.4.8)\n",
            "Requirement already satisfied: sympy>=1.3 in /usr/local/lib/python3.7/dist-packages (from qiskit-terra==0.20.0->qiskit) (1.7.1)\n",
            "Requirement already satisfied: symengine>=0.9 in /usr/local/lib/python3.7/dist-packages (from qiskit-terra==0.20.0->qiskit) (0.9.2)\n",
            "Requirement already satisfied: tweedledum<2.0,>=1.1 in /usr/local/lib/python3.7/dist-packages (from qiskit-terra==0.20.0->qiskit) (1.1.1)\n",
            "Requirement already satisfied: six>=1.5 in /usr/local/lib/python3.7/dist-packages (from python-dateutil>=2.8.0->qiskit-ibmq-provider==0.19.0->qiskit) (1.15.0)\n",
            "Requirement already satisfied: certifi>=2017.4.17 in /usr/local/lib/python3.7/dist-packages (from requests>=2.19->qiskit-ibmq-provider==0.19.0->qiskit) (2021.10.8)\n",
            "Requirement already satisfied: chardet<4,>=3.0.2 in /usr/local/lib/python3.7/dist-packages (from requests>=2.19->qiskit-ibmq-provider==0.19.0->qiskit) (3.0.4)\n",
            "Requirement already satisfied: idna<3,>=2.5 in /usr/local/lib/python3.7/dist-packages (from requests>=2.19->qiskit-ibmq-provider==0.19.0->qiskit) (2.10)\n",
            "Requirement already satisfied: cryptography>=1.3 in /usr/local/lib/python3.7/dist-packages (from requests-ntlm>=1.1.0->qiskit-ibmq-provider==0.19.0->qiskit) (36.0.2)\n",
            "Requirement already satisfied: ntlm-auth>=1.0.2 in /usr/local/lib/python3.7/dist-packages (from requests-ntlm>=1.1.0->qiskit-ibmq-provider==0.19.0->qiskit) (1.5.0)\n",
            "Requirement already satisfied: cffi>=1.12 in /usr/local/lib/python3.7/dist-packages (from cryptography>=1.3->requests-ntlm>=1.1.0->qiskit-ibmq-provider==0.19.0->qiskit) (1.15.0)\n",
            "Requirement already satisfied: pycparser in /usr/local/lib/python3.7/dist-packages (from cffi>=1.12->cryptography>=1.3->requests-ntlm>=1.1.0->qiskit-ibmq-provider==0.19.0->qiskit) (2.21)\n",
            "Requirement already satisfied: pbr!=2.1.0,>=2.0.0 in /usr/local/lib/python3.7/dist-packages (from stevedore>=3.0.0->qiskit-terra==0.20.0->qiskit) (5.8.1)\n",
            "Requirement already satisfied: importlib-metadata>=1.7.0 in /usr/local/lib/python3.7/dist-packages (from stevedore>=3.0.0->qiskit-terra==0.20.0->qiskit) (4.11.3)\n",
            "Requirement already satisfied: zipp>=0.5 in /usr/local/lib/python3.7/dist-packages (from importlib-metadata>=1.7.0->stevedore>=3.0.0->qiskit-terra==0.20.0->qiskit) (3.8.0)\n",
            "Requirement already satisfied: typing-extensions>=3.6.4 in /usr/local/lib/python3.7/dist-packages (from importlib-metadata>=1.7.0->stevedore>=3.0.0->qiskit-terra==0.20.0->qiskit) (4.1.1)\n",
            "Requirement already satisfied: mpmath>=0.19 in /usr/local/lib/python3.7/dist-packages (from sympy>=1.3->qiskit-terra==0.20.0->qiskit) (1.2.1)\n",
            "Requirement already satisfied: cycler>=0.10 in /usr/local/lib/python3.7/dist-packages (from matplotlib) (0.11.0)\n",
            "Requirement already satisfied: pyparsing!=2.0.4,!=2.1.2,!=2.1.6,>=2.0.1 in /usr/local/lib/python3.7/dist-packages (from matplotlib) (3.0.8)\n",
            "Requirement already satisfied: kiwisolver>=1.0.1 in /usr/local/lib/python3.7/dist-packages (from matplotlib) (1.4.2)\n"
          ]
        }
      ],
      "source": [
        "!pip install qiskit scipy pylatexenc matplotlib"
      ]
    },
    {
      "cell_type": "markdown",
      "id": "5689d678",
      "metadata": {
        "id": "5689d678"
      },
      "source": [
        "# VQLS with Qiskit\n",
        "**Course**: Applied Quantum Algorithms\n",
        "\n",
        "**Date**: April 20, 2022"
      ]
    },
    {
      "cell_type": "markdown",
      "id": "75cc419f",
      "metadata": {
        "id": "75cc419f"
      },
      "source": [
        "In this notebook, we will solve a linear system of the form\n",
        "$$\n",
        "A|x\\rangle = |b\\rangle\n",
        "$$\n",
        "by implementing the VQLS algorithm in Qiskit.\n",
        "\n",
        "We will first build some of the functions ourselves and verify them, but then use the compact libraries of Qiskit to build the final version of the cost function for optimization."
      ]
    },
    {
      "cell_type": "code",
      "execution_count": 1,
      "id": "3d13c702",
      "metadata": {
        "id": "3d13c702"
      },
      "outputs": [],
      "source": [
        "import numpy as np\n",
        "import scipy\n",
        "from qiskit import Aer\n",
        "from qiskit.circuit.library.n_local import TwoLocal\n",
        "from qiskit.opflow import (Z, I, H, CircuitStateFn, StateFn)\n",
        "from qiskit.quantum_info import Statevector"
      ]
    },
    {
      "cell_type": "markdown",
      "id": "7ba222af",
      "metadata": {
        "id": "7ba222af"
      },
      "source": [
        "## Ansatz"
      ]
    },
    {
      "cell_type": "markdown",
      "id": "fea0d59d",
      "metadata": {
        "id": "fea0d59d"
      },
      "source": [
        "First off, we know that all hybrid variational algorithms use a parametrized quantum circuit $U(\\theta)$ to represent the tentative solution as\n",
        "\n",
        "$$\n",
        "|\\psi(\\theta)\\rangle = U(\\theta) |0\\rangle^{\\otimes n},\n",
        "$$\n",
        "\n",
        "where $N$ is the dimension of our linear system and $n=\\log_2 N$.\n",
        "\n",
        "For this exercise, we want to build the following ansatz on 3 qubits\n",
        "\n",
        "![ansatz](https://github.com/debrevitatevitae/LabSessionsVqls/blob/main/ansatz.png?raw=1)\n",
        "\n",
        "Notice that the CZ-gates are arranged with a *full-entanglement* logic, so controls and targets are respectively:\n",
        "1. 0 -> 1\n",
        "2. 0 -> 2\n",
        "3. 1 -> 2"
      ]
    },
    {
      "cell_type": "code",
      "execution_count": 2,
      "id": "a8e3e740",
      "metadata": {
        "id": "a8e3e740"
      },
      "outputs": [],
      "source": [
        "from qiskit import QuantumCircuit\n",
        "\n",
        "def build_ansatz(params):\n",
        "    \"\"\"\n",
        "    Returns the ansatz circuit for representing |\\psi(\\theta)>\n",
        "    \n",
        "    Arguments:\n",
        "        params: np.ndarray containing the parameters of the rotation gates\n",
        "    \"\"\"\n",
        "    qc = QuantumCircuit(3)\n",
        "    \n",
        "    # ===============\n",
        "    # YOUR CODE BELOW\n",
        "    # ===============\n",
        "    # first ry block\n",
        "    qc.ry(params[0], 0)\n",
        "    qc.ry(params[1], 1)\n",
        "    qc.ry(params[2], 2)\n",
        "    \n",
        "    # entangling block\n",
        "    qc.cz(0, 1)\n",
        "    qc.cz(0, 2)\n",
        "    qc.cz(1, 2)\n",
        "    \n",
        "    # second ry block\n",
        "    qc.ry(params[3], 0)\n",
        "    qc.ry(params[4], 1)\n",
        "    qc.ry(params[5], 2)\n",
        "    \n",
        "    return qc"
      ]
    },
    {
      "cell_type": "markdown",
      "id": "28b78f94",
      "metadata": {
        "id": "28b78f94"
      },
      "source": [
        "Let's check our implementation using some random parameters as argument to our function"
      ]
    },
    {
      "cell_type": "code",
      "execution_count": 3,
      "id": "6099c0bd",
      "metadata": {
        "id": "6099c0bd",
        "outputId": "5ae4c352-87b9-44f1-db26-fbef43d38b1a",
        "colab": {
          "base_uri": "https://localhost:8080/",
          "height": 185
        }
      },
      "outputs": [
        {
          "output_type": "execute_result",
          "data": {
            "text/plain": [
              "<Figure size 387.597x204.68 with 1 Axes>"
            ],
            "image/png": "[encoded data removed]"
          },
          "metadata": {},
          "execution_count": 3
        }
      ],
      "source": [
        "rng = np.random.default_rng(1)\n",
        "\n",
        "theta_0 = rng.uniform(-2 * np.pi, 2 * np.pi, size=6)\n",
        "\n",
        "ansatz = build_ansatz(theta_0)\n",
        "\n",
        "ansatz.draw(output='mpl')"
      ]
    },
    {
      "cell_type": "markdown",
      "id": "e6320a79",
      "metadata": {
        "id": "e6320a79"
      },
      "source": [
        "Instead of creating parametrized circuits yourself, Qiskit offers a set of ansatz templates that you can directly use. For instance, we can use the `TwoLocal` class to produce the same ansatz that we just created"
      ]
    },
    {
      "cell_type": "code",
      "execution_count": 27,
      "id": "f7aa5ba8",
      "metadata": {
        "id": "f7aa5ba8",
        "outputId": "970269c3-0cec-4c5b-f763-1240556b7df3",
        "colab": {
          "base_uri": "https://localhost:8080/",
          "height": 185
        }
      },
      "outputs": [
        {
          "output_type": "execute_result",
          "data": {
            "text/plain": [
              "<Figure size 748.797x204.68 with 1 Axes>"
            ],
            "image/png": "[encoded data removed]"
          },
          "metadata": {},
          "execution_count": 27
        }
      ],
      "source": [
        "ansatz = TwoLocal(3, 'ry', 'cz', 'full', reps=1, insert_barriers=True)\n",
        "qc = ansatz.assign_parameters(theta_0).decompose()\n",
        "qc.draw(output='mpl')"
      ]
    },
    {
      "cell_type": "markdown",
      "id": "675dfb6f",
      "metadata": {
        "id": "675dfb6f"
      },
      "source": [
        "## Expectation value"
      ]
    },
    {
      "cell_type": "markdown",
      "id": "522907b6",
      "metadata": {
        "id": "522907b6"
      },
      "source": [
        "Let's assume that our problem is the following:\n",
        "\n",
        "Find $|x\\rangle$, such that $A|x\\rangle=|b\\rangle$, where\n",
        "\n",
        "$$\n",
        "A = 0.55 I + 0.225 Z_1 + 0.225 Z_2\n",
        "$$\n",
        "\n",
        "and\n",
        "\n",
        "$$\n",
        "|b\\rangle = B |0\\rangle^{\\otimes 3} = H^{\\otimes 3} |0\\rangle^{\\otimes 3}.\n",
        "$$\n",
        "\n",
        "We know that a possible cost function used in VQLS is\n",
        "\n",
        "$$\n",
        "C(\\theta) = \\langle\\psi(\\theta)| A^\\dagger (I - |b\\rangle\\langle b|) A |\\psi(\\theta)\\rangle,\n",
        "$$\n",
        "\n",
        "which we can also write as\n",
        "\n",
        "$$\n",
        "C(\\theta) = \\langle\\psi(\\theta)| A^\\dagger A |\\psi(\\theta)\\rangle - \\langle\\psi(\\theta)| A^\\dagger B |0\\rangle\\langle 0 | B^\\dagger A |\\psi(\\theta)\\rangle.\n",
        "$$"
      ]
    },
    {
      "cell_type": "markdown",
      "id": "d23d9b79-c409-4e19-8ffc-1d10434e9075",
      "metadata": {
        "id": "d23d9b79-c409-4e19-8ffc-1d10434e9075"
      },
      "source": [
        "## Exercise\n",
        "Write your own code to calculate the expactation value of the observable:\n",
        "$$\n",
        "obs = Z \\otimes Z \\otimes I.\n",
        "$$\n",
        "To do this use: \n",
        "$$\n",
        "\\begin{align}\n",
        "\\langle Z \\rangle &=\\langle q | Z | q\\rangle =\\langle q|0\\rangle\\langle 0|q\\rangle - \\langle q|1\\rangle\\langle 1|q\\rangle\n",
        "=|\\langle 0 |q\\rangle|^2 - |\\langle 1 | q\\rangle|^2,\\\\\\\\\n",
        "\\end{align}\n",
        "$$\n",
        "and so now we get:\n",
        "$$\n",
        "\\begin{align}\n",
        "\\langle obs \\rangle &\n",
        "=|\\langle 0 0 0 |q\\rangle|^2 +|\\langle 0 0 1 | q\\rangle|^2 + |\\langle 1 1 0 |q\\rangle|^2 + |\\langle 1 1 1 | q\\rangle|^2 -|\\langle 0 1 0 |q\\rangle|^2 - |\\langle 0 1 1 | q\\rangle|^2 - |\\langle 1 0 0 |q\\rangle|^2 - |\\langle 1 0 1 | q\\rangle|^2.\\\\\\\\\n",
        "\\end{align}\n",
        "$$"
      ]
    },
    {
      "cell_type": "code",
      "execution_count": 5,
      "id": "ac0b3d32",
      "metadata": {
        "id": "ac0b3d32"
      },
      "outputs": [],
      "source": [
        "backend = Aer.get_backend('statevector_simulator')"
      ]
    },
    {
      "cell_type": "code",
      "execution_count": 6,
      "id": "a07ffae4-035f-41b4-b036-ff2f9cc6d1a9",
      "metadata": {
        "id": "a07ffae4-035f-41b4-b036-ff2f9cc6d1a9"
      },
      "outputs": [],
      "source": [
        "obs = Z ^ Z ^ I"
      ]
    },
    {
      "cell_type": "code",
      "execution_count": 7,
      "id": "341bb68f-66b9-4e99-a56f-c63376924481",
      "metadata": {
        "id": "341bb68f-66b9-4e99-a56f-c63376924481"
      },
      "outputs": [],
      "source": [
        "psi = CircuitStateFn(ansatz.assign_parameters(theta_0))\n"
      ]
    },
    {
      "cell_type": "code",
      "execution_count": 12,
      "id": "89d8ccb1-21fa-44ef-a5f7-2ed462c01b07",
      "metadata": {
        "id": "89d8ccb1-21fa-44ef-a5f7-2ed462c01b07"
      },
      "outputs": [],
      "source": [
        "psi_sampled = psi.sample()"
      ]
    },
    {
      "cell_type": "code",
      "execution_count": 13,
      "id": "58251d99-7afb-47d9-8dcb-0bbdc4cbf384",
      "metadata": {
        "id": "58251d99-7afb-47d9-8dcb-0bbdc4cbf384"
      },
      "outputs": [],
      "source": [
        "def expectation_value(psi_sample):\n",
        "    ## your code here ## \n",
        "\n",
        "    positive = psi_sample['000'] + psi_sample['001'] + psi_sample['110']\\\n",
        "      + psi_sample['111']\n",
        "    negative = psi_sample['010'] + psi_sample['011'] + psi_sample['101']\\\n",
        "      + psi_sample['100']\n",
        "      \n",
        "    return positive - negative"
      ]
    },
    {
      "cell_type": "code",
      "execution_count": 14,
      "id": "131d3ded-8502-479e-8c8c-7865d948d22e",
      "metadata": {
        "id": "131d3ded-8502-479e-8c8c-7865d948d22e"
      },
      "outputs": [],
      "source": [
        "ev = expectation_value(psi_sampled)"
      ]
    },
    {
      "cell_type": "markdown",
      "id": "0878d9bd-03c3-4ce8-b8ad-ffd7d47d2bb2",
      "metadata": {
        "id": "0878d9bd-03c3-4ce8-b8ad-ffd7d47d2bb2"
      },
      "source": [
        "Now we test if our created expectation value was correct by comparing it to the qiskit pre-implemented version. "
      ]
    },
    {
      "cell_type": "code",
      "execution_count": 15,
      "id": "00d9fe94-0025-4818-acdf-9b10e2b009ad",
      "metadata": {
        "id": "00d9fe94-0025-4818-acdf-9b10e2b009ad"
      },
      "outputs": [],
      "source": [
        "ev_qiskit = StateFn(obs).adjoint().eval(psi)"
      ]
    },
    {
      "cell_type": "code",
      "execution_count": 16,
      "id": "10b966b4-a1b5-47ee-abe2-b00f1db17850",
      "metadata": {
        "id": "10b966b4-a1b5-47ee-abe2-b00f1db17850",
        "outputId": "07a273bd-81fa-422f-ba5c-0ff13160bb2e",
        "colab": {
          "base_uri": "https://localhost:8080/"
        }
      },
      "outputs": [
        {
          "output_type": "execute_result",
          "data": {
            "text/plain": [
              "(-0.02872603722658007+0j)"
            ]
          },
          "metadata": {},
          "execution_count": 16
        }
      ],
      "source": [
        "ev_qiskit - ev"
      ]
    },
    {
      "cell_type": "markdown",
      "id": "cc040b38",
      "metadata": {
        "id": "cc040b38"
      },
      "source": [
        "### Better expectation values"
      ]
    },
    {
      "cell_type": "code",
      "execution_count": 28,
      "id": "e42c8cb4",
      "metadata": {
        "id": "e42c8cb4"
      },
      "outputs": [],
      "source": [
        "A = 0.55 * (I ^ I ^ I) \\\n",
        "    + 0.225 * (I ^ Z ^ I) \\\n",
        "        + 0.225 * (I ^ I ^ Z)\n",
        "\n",
        "B = (H ^ H ^ H).to_pauli_op()"
      ]
    },
    {
      "cell_type": "code",
      "execution_count": 29,
      "id": "d7436564",
      "metadata": {
        "id": "d7436564"
      },
      "outputs": [],
      "source": [
        "A_squared = (~A) @ A"
      ]
    },
    {
      "cell_type": "code",
      "execution_count": 30,
      "id": "f706f966",
      "metadata": {
        "id": "f706f966"
      },
      "outputs": [],
      "source": [
        "zero_proj = 0.5 * (I + Z)\n",
        "zero_proj_3 = zero_proj ^ zero_proj ^ zero_proj"
      ]
    },
    {
      "cell_type": "code",
      "execution_count": 31,
      "id": "53ea7eda",
      "metadata": {
        "id": "53ea7eda",
        "outputId": "cc1782ae-52e4-40a0-d3bc-c526355d6e33",
        "colab": {
          "base_uri": "https://localhost:8080/"
        }
      },
      "outputs": [
        {
          "output_type": "stream",
          "name": "stdout",
          "text": [
            "[[1.+0.j 0.+0.j 0.+0.j 0.+0.j 0.+0.j 0.+0.j 0.+0.j 0.+0.j]\n",
            " [0.+0.j 0.+0.j 0.+0.j 0.+0.j 0.+0.j 0.+0.j 0.+0.j 0.+0.j]\n",
            " [0.+0.j 0.+0.j 0.+0.j 0.+0.j 0.+0.j 0.+0.j 0.+0.j 0.+0.j]\n",
            " [0.+0.j 0.+0.j 0.+0.j 0.+0.j 0.+0.j 0.+0.j 0.+0.j 0.+0.j]\n",
            " [0.+0.j 0.+0.j 0.+0.j 0.+0.j 0.+0.j 0.+0.j 0.+0.j 0.+0.j]\n",
            " [0.+0.j 0.+0.j 0.+0.j 0.+0.j 0.+0.j 0.+0.j 0.+0.j 0.+0.j]\n",
            " [0.+0.j 0.+0.j 0.+0.j 0.+0.j 0.+0.j 0.+0.j 0.+0.j 0.+0.j]\n",
            " [0.+0.j 0.+0.j 0.+0.j 0.+0.j 0.+0.j 0.+0.j 0.+0.j 0.+0.j]]\n"
          ]
        }
      ],
      "source": [
        "print(zero_proj_3.to_matrix())"
      ]
    },
    {
      "cell_type": "code",
      "execution_count": 32,
      "id": "4fc91eb8",
      "metadata": {
        "id": "4fc91eb8"
      },
      "outputs": [],
      "source": [
        "A_b_proj = (~A) @ (~B) @ zero_proj_3 @ B @ A"
      ]
    },
    {
      "cell_type": "code",
      "execution_count": 33,
      "id": "d7fd7126",
      "metadata": {
        "id": "d7fd7126",
        "outputId": "9b72c3c4-2edc-4bba-fafb-e5637c2d139f",
        "colab": {
          "base_uri": "https://localhost:8080/"
        }
      },
      "outputs": [
        {
          "output_type": "stream",
          "name": "stdout",
          "text": [
            "0.4386019602938086\n",
            "0.000220080079551968\n"
          ]
        }
      ],
      "source": [
        "ev1 = StateFn(A_squared).adjoint().eval(psi)\n",
        "ev2 = StateFn(A_b_proj).adjoint().eval(psi)\n",
        "print(ev1.real)\n",
        "print(ev2.real)"
      ]
    },
    {
      "cell_type": "code",
      "execution_count": 37,
      "id": "963b15f7",
      "metadata": {
        "id": "963b15f7"
      },
      "outputs": [],
      "source": [
        "def cost(params):\n",
        "    \"\"\"\n",
        "    Returns the global un-normalized cost function for VQLS:\n",
        "    C_G = <\\psi| (~A (1-|b><b|) A) |\\psi>\n",
        "    \"\"\"\n",
        "\n",
        "    # ===============\n",
        "    # YOUR CODE BELOW\n",
        "    # ===============\n",
        "    \n",
        "    psi = CircuitStateFn(ansatz.assign_parameters(params))\n",
        "    \n",
        "    ev1 = StateFn(A_squared).adjoint().eval(psi)\n",
        "    ev2 = StateFn(A_b_proj).adjoint().eval(psi)\n",
        "\n",
        "    cost_eval = 1 - ev2 / ev1\n",
        "\n",
        "    return cost_eval"
      ]
    },
    {
      "cell_type": "code",
      "execution_count": 38,
      "id": "888ed570",
      "metadata": {
        "id": "888ed570",
        "outputId": "481c3041-29e1-42b1-8f42-0f0c0e78b3a8",
        "colab": {
          "base_uri": "https://localhost:8080/"
        }
      },
      "outputs": [
        {
          "output_type": "stream",
          "name": "stderr",
          "text": [
            "/usr/local/lib/python3.7/dist-packages/scipy/optimize/cobyla.py:262: ComplexWarning: Casting complex values to real discards the imaginary part\n",
            "  dinfo=info)\n"
          ]
        },
        {
          "output_type": "stream",
          "name": "stdout",
          "text": [
            "     fun: 1.8286908964881832e-07\n",
            "   maxcv: 0.0\n",
            " message: 'Optimization terminated successfully.'\n",
            "    nfev: 184\n",
            "  status: 1\n",
            " success: True\n",
            "       x: array([-0.16048891,  7.17505604, -3.14139321,  8.93949503, -2.64005941,\n",
            "       -1.56993953])\n"
          ]
        }
      ],
      "source": [
        "out = scipy.optimize.minimize(cost, x0=theta_0, method=\"COBYLA\", options={'maxiter':500})\n",
        "print(out)"
      ]
    },
    {
      "cell_type": "code",
      "execution_count": 39,
      "id": "9157bf5a",
      "metadata": {
        "id": "9157bf5a",
        "outputId": "114fc35e-a333-43ac-caef-ed8192e440b6",
        "colab": {
          "base_uri": "https://localhost:8080/"
        }
      },
      "outputs": [
        {
          "output_type": "stream",
          "name": "stdout",
          "text": [
            "[0.06812859+0.j 0.12393742+0.j 0.12386318+0.j 0.68129708+0.j\n",
            " 0.06816744+0.j 0.12395552+0.j 0.12400603+0.j 0.6819831 +0.j]\n"
          ]
        }
      ],
      "source": [
        "theta_opt = out.x\n",
        "zero_state = Statevector.from_label('000')\n",
        "psi_opt = zero_state.evolve(ansatz.assign_parameters(theta_opt))\n",
        "psi_opt_vector = psi_opt.data\n",
        "print(psi_opt_vector)"
      ]
    },
    {
      "cell_type": "code",
      "execution_count": 40,
      "id": "b9886527",
      "metadata": {
        "id": "b9886527",
        "outputId": "a34eebef-4b8d-4c09-f733-c9371fca9ab8",
        "colab": {
          "base_uri": "https://localhost:8080/"
        }
      },
      "outputs": [
        {
          "output_type": "stream",
          "name": "stdout",
          "text": [
            "[0.06816407+0.j 0.12393467+0.j 0.12393467+0.j 0.68164071+0.j\n",
            " 0.06816407+0.j 0.12393467+0.j 0.12393467+0.j 0.68164071+0.j]\n"
          ]
        }
      ],
      "source": [
        "x_true = np.linalg.solve(A.to_matrix(), (1/np.sqrt(8) * np.ones(8)))\n",
        "x_true_norm = np.linalg.norm(x_true)\n",
        "print(x_true / x_true_norm)"
      ]
    },
    {
      "cell_type": "code",
      "source": [
        ""
      ],
      "metadata": {
        "id": "0bHx1AJZdfKg"
      },
      "id": "0bHx1AJZdfKg",
      "execution_count": null,
      "outputs": []
    }
  ],
  "metadata": {
    "kernelspec": {
      "display_name": "Python 3",
      "language": "python",
      "name": "python3"
    },
    "language_info": {
      "codemirror_mode": {
        "name": "ipython",
        "version": 3
      },
      "file_extension": ".py",
      "mimetype": "text/x-python",
      "name": "python",
      "nbconvert_exporter": "python",
      "pygments_lexer": "ipython3",
      "version": "3.9.12"
    },
    "colab": {
      "name": "vqlsLab.ipynb",
      "provenance": []
    }
  },
  "nbformat": 4,
  "nbformat_minor": 5
}